{
 "cells": [
  {
   "cell_type": "markdown",
   "metadata": {},
   "source": [
    "# ĐỒ ÁN CUỐI KỲ: DỰ ĐOÁN GIÁ ĐIỆN THOẠI"
   ]
  },
  {
   "cell_type": "markdown",
   "metadata": {},
   "source": [
    "# 1. Thu Thập dữ liệu"
   ]
  },
  {
   "cell_type": "code",
   "execution_count": 1,
   "metadata": {},
   "outputs": [],
   "source": [
    "# Thư viện cần thiết\n",
    "from selenium import webdriver\n",
    "import requests\n",
    "from bs4 import BeautifulSoup\n",
    "import re\n",
    "import time\n",
    "import random\n",
    "import pandas as pd\n",
    "import csv\n",
    "import math\n",
    "%matplotlib inline\n",
    "import matplotlib.pyplot as plt\n",
    "import seaborn as sns # seaborn là thư viện được xây trên matplotlib, giúp việc visualization đỡ khổ hơn\n",
    "import numpy as np\n",
    "\n",
    "from sklearn.model_selection import train_test_split\n",
    "from sklearn.preprocessing import OneHotEncoder, StandardScaler\n",
    "from sklearn.impute import SimpleImputer\n",
    "from sklearn.base import BaseEstimator, TransformerMixin\n",
    "from sklearn.pipeline import Pipeline, make_pipeline\n",
    "from sklearn.compose import ColumnTransformer, make_column_transformer\n",
    "from sklearn.neural_network import MLPClassifier\n",
    "from sklearn import set_config\n",
    "set_config(display='diagram') # Để trực quan hóa pipeline\n",
    "import sklearn\n"
   ]
  },
  {
   "cell_type": "markdown",
   "metadata": {},
   "source": [
    "Parse trang web:  để lấy link vào trang thông tin chi tiết từng sản phẩm"
   ]
  },
  {
   "cell_type": "code",
   "execution_count": 2,
   "metadata": {},
   "outputs": [],
   "source": [
    "\n",
    "def collect_phone_links(link):\n",
    "    # Tương tác với trang web, bấm nút xem thêm cho đến khi hết trang web (khoảng 7 lần bấm)\n",
    "    browser = webdriver.Chrome(executable_path='./chromedriver.exe') \n",
    "    browser.get(link)\n",
    "    i = 0\n",
    "    while i < 7:\n",
    "        browser.find_element_by_class_name('loadmore').click()\n",
    "        i = i + 1\n",
    "    html_text = browser.page_source\n",
    "    browser.quit()\n",
    "    # parse html để lấy phone links\n",
    "    phone_link_list = []\n",
    "    parse_html = BeautifulSoup(html_text, 'html.parser')\n",
    "    phones = parse_html.find_all('a', {'class': 'prdImageHrf'})\n",
    "    for phone in phones:\n",
    "        phone_link = 'https://www.dienmayxanh.com/' + phone['href']\n",
    "        phone_link_list.append(phone_link)\n",
    "    return phone_link_list\n",
    "    "
   ]
  },
  {
   "cell_type": "code",
   "execution_count": 3,
   "metadata": {},
   "outputs": [],
   "source": [
    "def write_links_into_file(link):\n",
    "    data_link = open('phone_links.txt','w')\n",
    "    links =  collect_phone_links(link)\n",
    "    for link in links:\n",
    "        data_link.write(link + '\\n')\n",
    "    data_link.close()"
   ]
  },
  {
   "cell_type": "code",
   "execution_count": 4,
   "metadata": {},
   "outputs": [],
   "source": [
    "#start_link = 'https://www.dienmayxanh.com/dien-thoai'\n",
    "#write_links_into_file(start_link)"
   ]
  },
  {
   "cell_type": "markdown",
   "metadata": {},
   "source": [
    "Sau khi đã lấy được tất cả các phone link và lưu vào file phone_links.txt để dùng về sau. Vì vậy ở các lần chạy sau không cần chạy lên phần này nữa -> ta comment dòng: write_links_into_file(link)"
   ]
  },
  {
   "cell_type": "code",
   "execution_count": 5,
   "metadata": {},
   "outputs": [],
   "source": [
    "phone_links = open('phone_links.txt','r')\n",
    "raw_links  = phone_links.readlines()\n",
    "phone_links.close()\n",
    "links = []\n",
    "for link in raw_links:\n",
    "    link = link[:-1]\n",
    "    links.append(link)\n",
    "\n",
    "    "
   ]
  },
  {
   "cell_type": "code",
   "execution_count": 6,
   "metadata": {
    "scrolled": true
   },
   "outputs": [
    {
     "name": "stdout",
     "output_type": "stream",
     "text": [
      "Tổng số phone link ta có:  179\n"
     ]
    }
   ],
   "source": [
    "print('Tổng số phone link ta có: ',len(links))"
   ]
  },
  {
   "cell_type": "markdown",
   "metadata": {},
   "source": [
    "Parse mỗi trang web tương ứng với mỗi link để lấy dữ liệu điện thoại"
   ]
  },
  {
   "cell_type": "code",
   "execution_count": 7,
   "metadata": {},
   "outputs": [],
   "source": [
    "def get_phone_infor(links):\n",
    "    infor = []\n",
    "    for link in links:\n",
    "        get_html = requests.get(link).text\n",
    "        parse_html = BeautifulSoup(get_html, 'html.parser')\n",
    "        \n",
    "        name = re.search(r'(?<=dien-thoai/)[\\w-]+', link)\n",
    "        get_phone_name =  name.group(0)\n",
    "        print(name)\n",
    "        \n",
    "        brand = re.search(r'(?<=dien-thoai/)[\\w]+', link)\n",
    "        get_brand = brand.group(0)\n",
    "        \n",
    "        tech_infor = parse_html.find('ul',{'class': 'specs'})\n",
    "        if tech_infor!= None:\n",
    "            get_tech_infor = tech_infor.text\n",
    "        else:\n",
    "            continue\n",
    "        get_screen = re.search(r'(([\\d.]+))\"', get_tech_infor)\n",
    "        if get_screen!= None:\n",
    "            screen = get_screen.group(1)\n",
    "        else:\n",
    "            screen = np.nan\n",
    "            \n",
    "        get_operation = re.search(r'((?<=Hệ điều hành:)[\\w ]+)([()\\w ])*[A-Z]', get_tech_infor)\n",
    "        if get_operation!= None:\n",
    "            operation = get_operation.group(1)\n",
    "        else:\n",
    "            operation = np.nan\n",
    "        \n",
    "        get_main_camera = re.search(r'((?<=Camera sau:)([\\w ]+)*[\\d.]+) [MP&]', get_tech_infor)\n",
    "        if get_main_camera!= None:\n",
    "            main_camera = get_main_camera.group(1)\n",
    "        else:\n",
    "            main_camera = np.nan\n",
    "            \n",
    "        get_front_camera = re.search(r'((?<=Camera trước:)([\\w ]+)*[\\d.]+) MP', get_tech_infor)\n",
    "        if get_front_camera!= None:\n",
    "            front_camera = get_front_camera.group(1)\n",
    "        else:\n",
    "            front_camera = np.nan\n",
    "            \n",
    "        get_CPU =re.search(r'((?<=CPU:)[\\w]+)', get_tech_infor)\n",
    "        if get_CPU!= None:\n",
    "            CPU = get_CPU.group(1)\n",
    "        else:\n",
    "            CPU = np.nan\n",
    "        get_RAM = re.search(r'((?<=(RAM:))[\\d]+) GB[Bộ]*', get_tech_infor)\n",
    "        if get_RAM!= None:\n",
    "            RAM = get_RAM.group(1)\n",
    "        else:\n",
    "            RAM = np.nan\n",
    "            \n",
    "        get_storage = re.search(r'((?<=Bộ nhớ trong:)[\\d]+)[ GB]', get_tech_infor)\n",
    "        if get_storage != None:\n",
    "            storage = get_storage.group(1)\n",
    "        else:\n",
    "            storage = np.nan\n",
    "        \n",
    "        get_battery = re.search(r'((?<=Dung lượng pin:)[\\w ]+)mAh', get_tech_infor)\n",
    "        if get_battery!= None:\n",
    "            battery = get_battery.group(1)\n",
    "        else:\n",
    "            battery = np.nan\n",
    "            \n",
    "        get_price = parse_html.find('strong',{'class': 'dl'})\n",
    "        if get_price != None:\n",
    "            price = get_price.text\n",
    "        elif (parse_html.find('div',{'class': 'area_price'}) !=None) and (parse_html.find('span',{'class': 'nosell'}) == None) :\n",
    "            get_price = parse_html.find('div',{'class': 'area_price'}).text\n",
    "            price = re.search(r'([\\d.]+)₫', get_price).group(1)\n",
    "        else:\n",
    "            price = np.nan\n",
    "        print(price)\n",
    "        \n",
    "        infor.append([get_phone_name,get_brand,screen,operation,main_camera,front_camera,CPU,RAM,storage,battery,price])\n",
    "        \n",
    "        \n",
    "        time.sleep(1)\n",
    "    return infor\n",
    "    \n",
    "    "
   ]
  },
  {
   "cell_type": "code",
   "execution_count": 8,
   "metadata": {
    "scrolled": true
   },
   "outputs": [],
   "source": [
    "#data_phones = get_phone_infor(links)"
   ]
  },
  {
   "cell_type": "code",
   "execution_count": 9,
   "metadata": {},
   "outputs": [],
   "source": [
    "#df = pd.DataFrame(data = data_phones, columns = [\"Phone_Name\",\"Brand\",\"Screen\",\"Operation\",\"Main_Camera\",\"Front_Camera\",\"CPU\",\"RAM\",\"Storage\",\"Battery\",'Price'])\n",
    "#df.to_csv(\"Phone_Information.csv\",index = False)\n",
    "#df.sample(20)"
   ]
  },
  {
   "cell_type": "code",
   "execution_count": 10,
   "metadata": {},
   "outputs": [],
   "source": [
    "df = pd.read_csv('Phone_Information.csv')"
   ]
  },
  {
   "cell_type": "code",
   "execution_count": 29,
   "metadata": {},
   "outputs": [
    {
     "data": {
      "text/html": [
       "<div>\n",
       "<style scoped>\n",
       "    .dataframe tbody tr th:only-of-type {\n",
       "        vertical-align: middle;\n",
       "    }\n",
       "\n",
       "    .dataframe tbody tr th {\n",
       "        vertical-align: top;\n",
       "    }\n",
       "\n",
       "    .dataframe thead th {\n",
       "        text-align: right;\n",
       "    }\n",
       "</style>\n",
       "<table border=\"1\" class=\"dataframe\">\n",
       "  <thead>\n",
       "    <tr style=\"text-align: right;\">\n",
       "      <th></th>\n",
       "      <th>Phone_Name</th>\n",
       "      <th>Brand</th>\n",
       "      <th>Screen</th>\n",
       "      <th>Operation</th>\n",
       "      <th>Main_Camera</th>\n",
       "      <th>Front_Camera</th>\n",
       "      <th>CPU</th>\n",
       "      <th>RAM</th>\n",
       "      <th>Storage</th>\n",
       "      <th>Battery</th>\n",
       "      <th>Price</th>\n",
       "    </tr>\n",
       "  </thead>\n",
       "  <tbody>\n",
       "    <tr>\n",
       "      <th>0</th>\n",
       "      <td>oppo-reno5</td>\n",
       "      <td>oppo</td>\n",
       "      <td>6.43</td>\n",
       "      <td>Android 11</td>\n",
       "      <td>Chính 64</td>\n",
       "      <td>44.0</td>\n",
       "      <td>Snapdragon</td>\n",
       "      <td>8.0</td>\n",
       "      <td>128.0</td>\n",
       "      <td>4310</td>\n",
       "      <td>8690000</td>\n",
       "    </tr>\n",
       "    <tr>\n",
       "      <th>1</th>\n",
       "      <td>oppo-a92</td>\n",
       "      <td>oppo</td>\n",
       "      <td>6.50</td>\n",
       "      <td>Android 10</td>\n",
       "      <td>Chính 48</td>\n",
       "      <td>16.0</td>\n",
       "      <td>Snapdragon</td>\n",
       "      <td>8.0</td>\n",
       "      <td>128.0</td>\n",
       "      <td>5000</td>\n",
       "      <td>6490000</td>\n",
       "    </tr>\n",
       "    <tr>\n",
       "      <th>2</th>\n",
       "      <td>iphone-12-mini</td>\n",
       "      <td>iphone</td>\n",
       "      <td>5.40</td>\n",
       "      <td>iOS 14</td>\n",
       "      <td>2 camera 12</td>\n",
       "      <td>12.0</td>\n",
       "      <td>Apple</td>\n",
       "      <td>4.0</td>\n",
       "      <td>64.0</td>\n",
       "      <td>2227</td>\n",
       "      <td>21990000</td>\n",
       "    </tr>\n",
       "    <tr>\n",
       "      <th>3</th>\n",
       "      <td>xiaomi-mi-10t-pro</td>\n",
       "      <td>xiaomi</td>\n",
       "      <td>6.67</td>\n",
       "      <td>Android 10</td>\n",
       "      <td>Chính 108</td>\n",
       "      <td>20.0</td>\n",
       "      <td>Snapdragon</td>\n",
       "      <td>8.0</td>\n",
       "      <td>256.0</td>\n",
       "      <td>5000</td>\n",
       "      <td>12990000</td>\n",
       "    </tr>\n",
       "    <tr>\n",
       "      <th>4</th>\n",
       "      <td>samsung-galaxy-a12-6gb</td>\n",
       "      <td>samsung</td>\n",
       "      <td>6.50</td>\n",
       "      <td>Android 10</td>\n",
       "      <td>Chính 48</td>\n",
       "      <td>8.0</td>\n",
       "      <td>MediaTek</td>\n",
       "      <td>6.0</td>\n",
       "      <td>128.0</td>\n",
       "      <td>5000</td>\n",
       "      <td>4690000</td>\n",
       "    </tr>\n",
       "    <tr>\n",
       "      <th>5</th>\n",
       "      <td>samsung-galaxy-m51</td>\n",
       "      <td>samsung</td>\n",
       "      <td>6.70</td>\n",
       "      <td>Android 10</td>\n",
       "      <td>Chính 64</td>\n",
       "      <td>32.0</td>\n",
       "      <td>Snapdragon</td>\n",
       "      <td>8.0</td>\n",
       "      <td>128.0</td>\n",
       "      <td>7000</td>\n",
       "      <td>9490000</td>\n",
       "    </tr>\n",
       "    <tr>\n",
       "      <th>6</th>\n",
       "      <td>realme-c15</td>\n",
       "      <td>realme</td>\n",
       "      <td>6.50</td>\n",
       "      <td>Android 10</td>\n",
       "      <td>Chính 13</td>\n",
       "      <td>8.0</td>\n",
       "      <td>Snapdragon</td>\n",
       "      <td>4.0</td>\n",
       "      <td>64.0</td>\n",
       "      <td>6000</td>\n",
       "      <td>4190000</td>\n",
       "    </tr>\n",
       "    <tr>\n",
       "      <th>7</th>\n",
       "      <td>vivo-y51-2020</td>\n",
       "      <td>vivo</td>\n",
       "      <td>6.58</td>\n",
       "      <td>Android 11</td>\n",
       "      <td>Chính 48</td>\n",
       "      <td>16.0</td>\n",
       "      <td>Snapdragon</td>\n",
       "      <td>8.0</td>\n",
       "      <td>128.0</td>\n",
       "      <td>5000</td>\n",
       "      <td>6290000</td>\n",
       "    </tr>\n",
       "    <tr>\n",
       "      <th>8</th>\n",
       "      <td>samsung-galaxy-z-fold-2</td>\n",
       "      <td>samsung</td>\n",
       "      <td>7.59</td>\n",
       "      <td>Android 10</td>\n",
       "      <td>3 camera 12</td>\n",
       "      <td>10.0</td>\n",
       "      <td>Snapdragon</td>\n",
       "      <td>12.0</td>\n",
       "      <td>256.0</td>\n",
       "      <td>4500</td>\n",
       "      <td>50000000</td>\n",
       "    </tr>\n",
       "    <tr>\n",
       "      <th>9</th>\n",
       "      <td>samsung-galaxy-z-fold2-5g-dac-biet</td>\n",
       "      <td>samsung</td>\n",
       "      <td>7.59</td>\n",
       "      <td>Android 10</td>\n",
       "      <td>3 camera 12</td>\n",
       "      <td>10.0</td>\n",
       "      <td>Snapdragon</td>\n",
       "      <td>12.0</td>\n",
       "      <td>256.0</td>\n",
       "      <td>4500</td>\n",
       "      <td>50000000</td>\n",
       "    </tr>\n",
       "    <tr>\n",
       "      <th>10</th>\n",
       "      <td>iphone-12-pro-512gb</td>\n",
       "      <td>iphone</td>\n",
       "      <td>6.10</td>\n",
       "      <td>iOS 14</td>\n",
       "      <td>3 camera 12</td>\n",
       "      <td>12.0</td>\n",
       "      <td>Apple</td>\n",
       "      <td>6.0</td>\n",
       "      <td>512.0</td>\n",
       "      <td>2815</td>\n",
       "      <td>39990000</td>\n",
       "    </tr>\n",
       "    <tr>\n",
       "      <th>11</th>\n",
       "      <td>samsung-galaxy-z-flip</td>\n",
       "      <td>samsung</td>\n",
       "      <td>6.70</td>\n",
       "      <td>Android 10</td>\n",
       "      <td>2 camera 12</td>\n",
       "      <td>10.0</td>\n",
       "      <td>Snapdragon</td>\n",
       "      <td>8.0</td>\n",
       "      <td>256.0</td>\n",
       "      <td>3300</td>\n",
       "      <td>36000000</td>\n",
       "    </tr>\n",
       "    <tr>\n",
       "      <th>12</th>\n",
       "      <td>iphone-12-pro-256gb</td>\n",
       "      <td>iphone</td>\n",
       "      <td>6.10</td>\n",
       "      <td>iOS 14</td>\n",
       "      <td>3 camera 12</td>\n",
       "      <td>12.0</td>\n",
       "      <td>Apple</td>\n",
       "      <td>6.0</td>\n",
       "      <td>256.0</td>\n",
       "      <td>2815</td>\n",
       "      <td>34990000</td>\n",
       "    </tr>\n",
       "    <tr>\n",
       "      <th>13</th>\n",
       "      <td>samsung-galaxy-note-20-ultra-5g-trang</td>\n",
       "      <td>samsung</td>\n",
       "      <td>6.90</td>\n",
       "      <td>Android 10</td>\n",
       "      <td>Chính 108</td>\n",
       "      <td>10.0</td>\n",
       "      <td>Exynos</td>\n",
       "      <td>12.0</td>\n",
       "      <td>256.0</td>\n",
       "      <td>4500</td>\n",
       "      <td>32990000</td>\n",
       "    </tr>\n",
       "    <tr>\n",
       "      <th>14</th>\n",
       "      <td>samsung-galaxy-note-20-ultra-5g</td>\n",
       "      <td>samsung</td>\n",
       "      <td>6.90</td>\n",
       "      <td>Android 10</td>\n",
       "      <td>Chính 108</td>\n",
       "      <td>10.0</td>\n",
       "      <td>Exynos</td>\n",
       "      <td>12.0</td>\n",
       "      <td>256.0</td>\n",
       "      <td>4500</td>\n",
       "      <td>32990000</td>\n",
       "    </tr>\n",
       "    <tr>\n",
       "      <th>15</th>\n",
       "      <td>samsung-galaxy-note-20-ultra</td>\n",
       "      <td>samsung</td>\n",
       "      <td>6.90</td>\n",
       "      <td>Android 10</td>\n",
       "      <td>Chính 108</td>\n",
       "      <td>10.0</td>\n",
       "      <td>Exynos</td>\n",
       "      <td>8.0</td>\n",
       "      <td>256.0</td>\n",
       "      <td>4500</td>\n",
       "      <td>29990000</td>\n",
       "    </tr>\n",
       "    <tr>\n",
       "      <th>16</th>\n",
       "      <td>iphone-12-256gb</td>\n",
       "      <td>iphone</td>\n",
       "      <td>6.10</td>\n",
       "      <td>iOS 14</td>\n",
       "      <td>2 camera 12</td>\n",
       "      <td>12.0</td>\n",
       "      <td>Apple</td>\n",
       "      <td>4.0</td>\n",
       "      <td>256.0</td>\n",
       "      <td>2815</td>\n",
       "      <td>28490000</td>\n",
       "    </tr>\n",
       "    <tr>\n",
       "      <th>17</th>\n",
       "      <td>iphone-12-128gb</td>\n",
       "      <td>iphone</td>\n",
       "      <td>6.10</td>\n",
       "      <td>iOS 14</td>\n",
       "      <td>2 camera 12</td>\n",
       "      <td>12.0</td>\n",
       "      <td>Apple</td>\n",
       "      <td>4.0</td>\n",
       "      <td>128.0</td>\n",
       "      <td>2815</td>\n",
       "      <td>26990000</td>\n",
       "    </tr>\n",
       "    <tr>\n",
       "      <th>18</th>\n",
       "      <td>iphone-12-mini-256gb</td>\n",
       "      <td>iphone</td>\n",
       "      <td>5.40</td>\n",
       "      <td>iOS 14</td>\n",
       "      <td>2 camera 12</td>\n",
       "      <td>12.0</td>\n",
       "      <td>Apple</td>\n",
       "      <td>4.0</td>\n",
       "      <td>256.0</td>\n",
       "      <td>2227</td>\n",
       "      <td>25490000</td>\n",
       "    </tr>\n",
       "    <tr>\n",
       "      <th>19</th>\n",
       "      <td>iphone-12</td>\n",
       "      <td>iphone</td>\n",
       "      <td>6.10</td>\n",
       "      <td>iOS 14</td>\n",
       "      <td>2 camera 12</td>\n",
       "      <td>12.0</td>\n",
       "      <td>Apple</td>\n",
       "      <td>4.0</td>\n",
       "      <td>64.0</td>\n",
       "      <td>2815</td>\n",
       "      <td>24990000</td>\n",
       "    </tr>\n",
       "  </tbody>\n",
       "</table>\n",
       "</div>"
      ],
      "text/plain": [
       "                               Phone_Name    Brand  Screen   Operation  \\\n",
       "0                              oppo-reno5     oppo    6.43  Android 11   \n",
       "1                                oppo-a92     oppo    6.50  Android 10   \n",
       "2                          iphone-12-mini   iphone    5.40      iOS 14   \n",
       "3                       xiaomi-mi-10t-pro   xiaomi    6.67  Android 10   \n",
       "4                  samsung-galaxy-a12-6gb  samsung    6.50  Android 10   \n",
       "5                      samsung-galaxy-m51  samsung    6.70  Android 10   \n",
       "6                              realme-c15   realme    6.50  Android 10   \n",
       "7                           vivo-y51-2020     vivo    6.58  Android 11   \n",
       "8                 samsung-galaxy-z-fold-2  samsung    7.59  Android 10   \n",
       "9      samsung-galaxy-z-fold2-5g-dac-biet  samsung    7.59  Android 10   \n",
       "10                    iphone-12-pro-512gb   iphone    6.10      iOS 14   \n",
       "11                  samsung-galaxy-z-flip  samsung    6.70  Android 10   \n",
       "12                    iphone-12-pro-256gb   iphone    6.10      iOS 14   \n",
       "13  samsung-galaxy-note-20-ultra-5g-trang  samsung    6.90  Android 10   \n",
       "14        samsung-galaxy-note-20-ultra-5g  samsung    6.90  Android 10   \n",
       "15           samsung-galaxy-note-20-ultra  samsung    6.90  Android 10   \n",
       "16                        iphone-12-256gb   iphone    6.10      iOS 14   \n",
       "17                        iphone-12-128gb   iphone    6.10      iOS 14   \n",
       "18                   iphone-12-mini-256gb   iphone    5.40      iOS 14   \n",
       "19                              iphone-12   iphone    6.10      iOS 14   \n",
       "\n",
       "    Main_Camera  Front_Camera         CPU   RAM  Storage  Battery     Price  \n",
       "0      Chính 64          44.0  Snapdragon   8.0    128.0     4310   8690000  \n",
       "1      Chính 48          16.0  Snapdragon   8.0    128.0     5000   6490000  \n",
       "2   2 camera 12          12.0       Apple   4.0     64.0     2227  21990000  \n",
       "3     Chính 108          20.0  Snapdragon   8.0    256.0     5000  12990000  \n",
       "4      Chính 48           8.0    MediaTek   6.0    128.0     5000   4690000  \n",
       "5      Chính 64          32.0  Snapdragon   8.0    128.0     7000   9490000  \n",
       "6      Chính 13           8.0  Snapdragon   4.0     64.0     6000   4190000  \n",
       "7      Chính 48          16.0  Snapdragon   8.0    128.0     5000   6290000  \n",
       "8   3 camera 12          10.0  Snapdragon  12.0    256.0     4500  50000000  \n",
       "9   3 camera 12          10.0  Snapdragon  12.0    256.0     4500  50000000  \n",
       "10  3 camera 12          12.0       Apple   6.0    512.0     2815  39990000  \n",
       "11  2 camera 12          10.0  Snapdragon   8.0    256.0     3300  36000000  \n",
       "12  3 camera 12          12.0       Apple   6.0    256.0     2815  34990000  \n",
       "13    Chính 108          10.0      Exynos  12.0    256.0     4500  32990000  \n",
       "14    Chính 108          10.0      Exynos  12.0    256.0     4500  32990000  \n",
       "15    Chính 108          10.0      Exynos   8.0    256.0     4500  29990000  \n",
       "16  2 camera 12          12.0       Apple   4.0    256.0     2815  28490000  \n",
       "17  2 camera 12          12.0       Apple   4.0    128.0     2815  26990000  \n",
       "18  2 camera 12          12.0       Apple   4.0    256.0     2227  25490000  \n",
       "19  2 camera 12          12.0       Apple   4.0     64.0     2815  24990000  "
      ]
     },
     "execution_count": 29,
     "metadata": {},
     "output_type": "execute_result"
    }
   ],
   "source": [
    "df.head(20)"
   ]
  },
  {
   "cell_type": "markdown",
   "metadata": {},
   "source": [
    "**Bước tiếp theo:**\n",
    "_Loại bỏ dòng trùng\n",
    "\n",
    "_Biến cột Screen,Front Camera, Ram, storage, battery (nhớ bỏ khoảng trắng sau số) về dạng float\n",
    "\n",
    "_Cột Main_camera bỏ hết ký tự, chừa lại số, nếu có \"2 camera 12\" thì lấy 2 nhân 12 -> đưa về dạng float\n",
    "\n",
    "_Cột Price bỏ ký tự khác không phải là số -> đưa về dạng float\n",
    "\n",
    "_cột Operation chỉ lấy tên bỏ số\n"
   ]
  },
  {
   "cell_type": "markdown",
   "metadata": {},
   "source": [
    "# Khám phá dữ liệu\n"
   ]
  },
  {
   "cell_type": "markdown",
   "metadata": {},
   "source": [
    "### Dữ liệu có bao nhiêu dòng và bao nhiêu cột?"
   ]
  },
  {
   "cell_type": "code",
   "execution_count": 12,
   "metadata": {},
   "outputs": [
    {
     "data": {
      "text/plain": [
       "(175, 11)"
      ]
     },
     "execution_count": 12,
     "metadata": {},
     "output_type": "execute_result"
    }
   ],
   "source": [
    "df.shape\n"
   ]
  },
  {
   "cell_type": "markdown",
   "metadata": {},
   "source": [
    "### Dữ liệu có các dòng bị lặp không?"
   ]
  },
  {
   "cell_type": "code",
   "execution_count": 13,
   "metadata": {},
   "outputs": [
    {
     "data": {
      "text/plain": [
       "0"
      ]
     },
     "execution_count": 13,
     "metadata": {},
     "output_type": "execute_result"
    }
   ],
   "source": [
    "df.index.duplicated().sum()"
   ]
  },
  {
   "cell_type": "markdown",
   "metadata": {},
   "source": [
    "### Dữ liệu có bị thiếu không ?"
   ]
  },
  {
   "cell_type": "code",
   "execution_count": 14,
   "metadata": {},
   "outputs": [
    {
     "data": {
      "text/plain": [
       "Phone_Name       0\n",
       "Brand            0\n",
       "Screen           0\n",
       "Operation       38\n",
       "Main_Camera     20\n",
       "Front_Camera    40\n",
       "CPU             38\n",
       "RAM             41\n",
       "Storage         37\n",
       "Battery          0\n",
       "Price            1\n",
       "dtype: int64"
      ]
     },
     "execution_count": 14,
     "metadata": {},
     "output_type": "execute_result"
    }
   ],
   "source": [
    "df.isna().sum()"
   ]
  },
  {
   "cell_type": "markdown",
   "metadata": {},
   "source": [
    "# Khám phá dữ liệu (để biết cách tách các tập)"
   ]
  },
  {
   "cell_type": "code",
   "execution_count": 15,
   "metadata": {},
   "outputs": [
    {
     "data": {
      "text/plain": [
       "dtype('O')"
      ]
     },
     "execution_count": 15,
     "metadata": {},
     "output_type": "execute_result"
    }
   ],
   "source": [
    "# Cột output hiện có kiểu dữ liệu gì?\n",
    "df['Price'].dtype"
   ]
  },
  {
   "cell_type": "code",
   "execution_count": 16,
   "metadata": {},
   "outputs": [
    {
     "data": {
      "text/plain": [
       "1"
      ]
     },
     "execution_count": 16,
     "metadata": {},
     "output_type": "execute_result"
    }
   ],
   "source": [
    "# Cột output có giá trị thiếu không?\n",
    "df['Price'].isna().sum()"
   ]
  },
  {
   "cell_type": "code",
   "execution_count": 17,
   "metadata": {},
   "outputs": [
    {
     "data": {
      "text/plain": [
       " 4.990.000₫ -6%       1.724138\n",
       "200.000               1.724138\n",
       "23.990.000            1.724138\n",
       " 2.990.000₫ -3%       1.724138\n",
       " 990.000₫ -10%        1.149425\n",
       "                        ...   \n",
       " 3.990.000₫ -12%      0.574713\n",
       " 23.990.000₫ -16%     0.574713\n",
       " 1.190.000₫ -10%      0.574713\n",
       "5.990.000             0.574713\n",
       " 39.990.000₫ -2%      0.574713\n",
       "Name: Price, Length: 142, dtype: float64"
      ]
     },
     "execution_count": 17,
     "metadata": {},
     "output_type": "execute_result"
    }
   ],
   "source": [
    "# Tỉ lệ các lớp trong cột output?\n",
    "df['Price'].value_counts(normalize=True) * 100"
   ]
  },
  {
   "cell_type": "markdown",
   "metadata": {},
   "source": [
    "- Cột Price có kiểu dữ liệu Objects Chúng ta cần chuyển sang dạng số mới có thể tách được tập\n",
    "- Cột Price có giá trị thiếu nên ta cần loại bỏ dòng thiếu đi.\n",
    "- Tỉ lệ các lớp không bị chênh lệch nhau quá nhiều nên không cần làm gì cả"
   ]
  },
  {
   "cell_type": "code",
   "execution_count": 18,
   "metadata": {},
   "outputs": [],
   "source": [
    "df.drop(df[df['Price'].isna()].index,inplace =True)"
   ]
  },
  {
   "cell_type": "code",
   "execution_count": 19,
   "metadata": {},
   "outputs": [],
   "source": [
    "df['Price']= df['Price'].str.extract(r'(\\d+\\.\\d+[.]?[\\d]*)', expand=False)\n",
    "df['Price']= df['Price'].str.replace(r'[.]','',regex=True).astype('int64')"
   ]
  },
  {
   "cell_type": "code",
   "execution_count": 20,
   "metadata": {},
   "outputs": [
    {
     "data": {
      "text/plain": [
       "0       8690000\n",
       "1       6490000\n",
       "2      21990000\n",
       "3      12990000\n",
       "4       4690000\n",
       "         ...   \n",
       "170      200000\n",
       "171      190000\n",
       "172      190000\n",
       "173      170000\n",
       "174      160000\n",
       "Name: Price, Length: 174, dtype: int64"
      ]
     },
     "execution_count": 20,
     "metadata": {},
     "output_type": "execute_result"
    }
   ],
   "source": [
    "df['Price']"
   ]
  },
  {
   "cell_type": "code",
   "execution_count": 26,
   "metadata": {},
   "outputs": [],
   "source": [
    "df.Front_Camera = pd.to_numeric(df.Front_Camera.str.extract(r'([\\d.]+)', expand=False), errors='coerce')\n",
    "df."
   ]
  },
  {
   "cell_type": "code",
   "execution_count": 31,
   "metadata": {},
   "outputs": [
    {
     "data": {
      "text/plain": [
       "40"
      ]
     },
     "execution_count": 31,
     "metadata": {},
     "output_type": "execute_result"
    }
   ],
   "source": [
    "df.Front_Camera.isna().sum()"
   ]
  },
  {
   "cell_type": "markdown",
   "metadata": {},
   "source": [
    "# Tiền xử lý (tách các tập)\n"
   ]
  },
  {
   "cell_type": "code",
   "execution_count": null,
   "metadata": {},
   "outputs": [],
   "source": [
    "# Tách X và y\n",
    "y_pr = df[\"Price\"] \n",
    "X_df = df.drop(\"Price\", axis=1)"
   ]
  },
  {
   "cell_type": "code",
   "execution_count": null,
   "metadata": {},
   "outputs": [],
   "source": [
    "# Tách tập huấn luyện và tập test theo tỉ lệ 80%:20%\n",
    "train_X_df, test_X_df, train_y_pr, test_y_pr = train_test_split(X_df, y_pr, test_size=0.2, \n",
    "                                                              random_state=0)\n"
   ]
  },
  {
   "cell_type": "code",
   "execution_count": null,
   "metadata": {},
   "outputs": [],
   "source": [
    "train_X_df, val_X_df, train_y_pr, val_y_pr = train_test_split(train_X_df, train_y_pr, test_size=0.2, \n",
    "                                                               random_state=0)"
   ]
  },
  {
   "cell_type": "code",
   "execution_count": null,
   "metadata": {},
   "outputs": [],
   "source": [
    "train_X_df.shape"
   ]
  },
  {
   "cell_type": "code",
   "execution_count": null,
   "metadata": {},
   "outputs": [],
   "source": [
    "train_y_pr.shape"
   ]
  },
  {
   "cell_type": "code",
   "execution_count": null,
   "metadata": {},
   "outputs": [],
   "source": [
    "test_X_df.shape"
   ]
  },
  {
   "cell_type": "code",
   "execution_count": null,
   "metadata": {},
   "outputs": [],
   "source": [
    "test_y_pr.shape"
   ]
  },
  {
   "cell_type": "code",
   "execution_count": null,
   "metadata": {},
   "outputs": [],
   "source": [
    "val_X_df.shape"
   ]
  },
  {
   "cell_type": "code",
   "execution_count": null,
   "metadata": {},
   "outputs": [],
   "source": [
    "val_y_pr.shape"
   ]
  },
  {
   "cell_type": "markdown",
   "metadata": {},
   "source": [
    "# Khám phá dữ liệu (tập huấn luyện)"
   ]
  },
  {
   "cell_type": "code",
   "execution_count": null,
   "metadata": {},
   "outputs": [],
   "source": [
    "train_X_df.dtypes"
   ]
  },
  {
   "cell_type": "code",
   "execution_count": null,
   "metadata": {},
   "outputs": [],
   "source": [
    "phones_df.rear_camera = pd.to_numeric(phones_df.rear_camera.str.extract(r'([\\d.]+)', expand=False), errors='coerce')"
   ]
  }
 ],
 "metadata": {
  "kernelspec": {
   "display_name": "Python 3",
   "language": "python",
   "name": "python3"
  },
  "language_info": {
   "codemirror_mode": {
    "name": "ipython",
    "version": 3
   },
   "file_extension": ".py",
   "mimetype": "text/x-python",
   "name": "python",
   "nbconvert_exporter": "python",
   "pygments_lexer": "ipython3",
   "version": "3.8.3"
  }
 },
 "nbformat": 4,
 "nbformat_minor": 4
}
